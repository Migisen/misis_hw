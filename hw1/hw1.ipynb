{
 "cells": [
  {
   "cell_type": "code",
   "execution_count": 16,
   "metadata": {},
   "outputs": [],
   "source": [
    "from typing import Union, List"
   ]
  },
  {
   "cell_type": "markdown",
   "metadata": {},
   "source": [
    "# Домашка 1"
   ]
  },
  {
   "cell_type": "markdown",
   "metadata": {},
   "source": [
    "## Задача 1. Сумма первых $n$ положительных чисел.\n",
    "\n",
    "Напишите программу, запрашивающую у пользователя число и подсчитывающую сумму натуральных положительных чисел от 1 до введенного пользователем значения. Сумма первых $n$ положительных чисел может быть рассчитана по формуле:\n",
    "\n",
    "$$\n",
    "n = \\dfrac{n*(n+1)}{2}\n",
    "$$\n",
    "\n",
    "### Решение"
   ]
  },
  {
   "cell_type": "code",
   "execution_count": 9,
   "metadata": {},
   "outputs": [
    {
     "name": "stdout",
     "output_type": "stream",
     "text": [
      "Сумма от 1 до 10 равняется 55\n"
     ]
    }
   ],
   "source": [
    "def calculate_sum(n: int) -> int:\n",
    "    if n < 1:\n",
    "        raise ValueError('Input must be greater than 0')\n",
    "    return int((n * (n + 1))/2)\n",
    "\n",
    "n = int(input())\n",
    "print(f'Сумма от 1 до {n} равняется {calculate_sum(n)}')"
   ]
  },
  {
   "cell_type": "markdown",
   "metadata": {},
   "source": [
    "## Задача 2. Калькулятор.\n",
    "\n",
    "Составьте программу, которая запрашивает у пользователя 2 целых числа и выполняет операции:\n",
    "- арифметические: +, -, * , / , // , %, **, log10\n",
    "- сравнение: <, <=, >, >=, !=, ==\n",
    "\n",
    "выводя на экран результат каждого действия. В случае получение вещественного результата, округлите его до 2-х знаков после запятой (используя функцию `round()`).\n",
    "\n",
    "### Решение\n",
    "\n"
   ]
  },
  {
   "cell_type": "code",
   "execution_count": 21,
   "metadata": {},
   "outputs": [
    {
     "name": "stdout",
     "output_type": "stream",
     "text": [
      "---------\n",
      "Арифметические операции\n",
      "---------\n",
      "1 + 10 = 11\n",
      "1 - 10 = -9\n",
      "1 * 10 = 10\n",
      "1 / 10 = 0.1\n",
      "1 // 10 = 0\n",
      "1 % 10 = 1\n",
      "1 ** 10 = 1\n",
      "log_10(1) = 0.0\n",
      "log_10(10) = 1.0\n",
      "---------\n",
      "Сравнения\n",
      "---------\n",
      "1 < 10 = True\n",
      "1 <= 10 = True\n",
      "1 > 10 = False\n",
      "1 >= 10 = False\n",
      "1 != 10 = True\n",
      "1 == 10 = False\n"
     ]
    }
   ],
   "source": [
    "import operator\n",
    "import math\n",
    "\n",
    "\n",
    "def run_operators(operators_list: List[tuple], a: int, b: int, title: str) -> None:\n",
    "    print('---------')\n",
    "    print(title)\n",
    "    print('---------')\n",
    "    for oper in operators_list:\n",
    "        value = oper[1](a, b)\n",
    "        if type(value) == float:\n",
    "            value = round(value, 2)\n",
    "        print(f'{a} {oper[0]} {b} = {value}')\n",
    "\n",
    "def strange_calculator(a: int, b: int) -> None:\n",
    "    arithmetics_operators = [('+', operator.add), ('-', operator.sub), ('*', operator.mul), ('/', operator.truediv), ('//', operator.floordiv),\n",
    "    ('%', operator.mod), ('**', operator.pow), ('log10', math.log10)]\n",
    "    # Можно сделать меньше сравнений, используя полученные результаты, но для наглядности будет все\n",
    "    comparison_operators = [('<', operator.lt), ('<=', operator.le), ('>', operator.gt), ('>=', operator.ge), ('!=', operator.ne), ('==', operator.eq)]\n",
    "\n",
    "    # Обрабатываем арифметические операторы, кроме логарифма\n",
    "    run_operators(arithmetics_operators[:-1], a, b, 'Арифметические операции')\n",
    "    # Обрабатываем логарифм\n",
    "    for number in [a, b]:\n",
    "        log_result = arithmetics_operators[-1][1](number)\n",
    "        if type(log_result) == float:\n",
    "            log_result = round(log_result, 2)\n",
    "        print(f'log_10({number}) = {log_result}')\n",
    "    # Обрабатываем сравнения\n",
    "    run_operators(comparison_operators, a, b, 'Сравнения')     \n",
    "\n",
    "a, b = int(input()), int(input())\n",
    "strange_calculator(a, b)"
   ]
  },
  {
   "cell_type": "markdown",
   "metadata": {},
   "source": [
    "## Задача 7. Сумма и произведение цифр в числе\n",
    "Дано двузначное и трехзначное число. Для каждого выведите на экран сумму и произведение цифр.\n",
    "\n",
    "### Решение"
   ]
  },
  {
   "cell_type": "code",
   "execution_count": 51,
   "metadata": {},
   "outputs": [
    {
     "name": "stdout",
     "output_type": "stream",
     "text": [
      "------\n",
      "[ Для числа 13 ]\n",
      "Сумма чисел = 4\n",
      "Произведение чисел = 3\n",
      "------\n",
      "[ Для числа 337 ]\n",
      "Сумма чисел = 13\n",
      "Произведение чисел = 63\n"
     ]
    }
   ],
   "source": [
    "from math import prod\n",
    "\n",
    "\n",
    "a, b = 13, 337\n",
    "\n",
    "def extract_digits(number: int):\n",
    "    # Порядок будет обратный, в нашем случае это не важно\n",
    "    result = []\n",
    "    while number != 0:\n",
    "        result.append(number % 10)\n",
    "        number //= 10\n",
    "    return result\n",
    "\n",
    "def task_7(a: int, b: int) -> None:\n",
    "    for number in (a, b):\n",
    "        print('------')\n",
    "        print(f'[ Для числа {number} ]')\n",
    "        digits = extract_digits(number)\n",
    "        print(f'Сумма чисел = {sum(digits)}')\n",
    "        print(f'Произведение чисел = {prod(digits)}')\n",
    "\n",
    "task_7(a, b)\n"
   ]
  },
  {
   "cell_type": "code",
   "execution_count": 41,
   "metadata": {},
   "outputs": [
    {
     "data": {
      "text/plain": [
       "33"
      ]
     },
     "execution_count": 41,
     "metadata": {},
     "output_type": "execute_result"
    }
   ],
   "source": [
    "133 % 100"
   ]
  },
  {
   "cell_type": "code",
   "execution_count": 45,
   "metadata": {},
   "outputs": [
    {
     "data": {
      "text/plain": [
       "13"
      ]
     },
     "execution_count": 45,
     "metadata": {},
     "output_type": "execute_result"
    }
   ],
   "source": [
    "133 // 10"
   ]
  },
  {
   "cell_type": "markdown",
   "metadata": {},
   "source": [
    "## Задача 8. Сортировка трех чисел.\n",
    "Напишите программу, запрашивающую у пользователя три целых числа и выводящую их в упорядоченном виде – по возрастанию. Используйте функции `min` и `max` для нахождения наименьшего и наибольшего значений. Оставшееся число можно найти путем вычитания из суммы трех введенных чисел максимального и минимального.\n",
    "\n",
    "### Решение\n"
   ]
  },
  {
   "cell_type": "code",
   "execution_count": 25,
   "metadata": {},
   "outputs": [
    {
     "name": "stdout",
     "output_type": "stream",
     "text": [
      "Получается так: (-1, 30, 1000)\n"
     ]
    },
    {
     "data": {
      "text/plain": [
       "(-1, 30, 1000)"
      ]
     },
     "execution_count": 25,
     "metadata": {},
     "output_type": "execute_result"
    }
   ],
   "source": [
    "def sort_3(a: int, b: int, c: int):\n",
    "    temp_tuple = (a, b, c)\n",
    "    first, third = min(temp_tuple), max(temp_tuple)\n",
    "    second = sum(temp_tuple) - first - third\n",
    "    print(f'Получается так: {first, second, third}')\n",
    "    return first, second, third\n",
    "\n",
    "a, b, c = int(input()), int(input()), int(input())\n",
    "sort_3(a, b, c)"
   ]
  },
  {
   "cell_type": "markdown",
   "metadata": {},
   "source": [
    "## Задача 9. Поменять местами: не всё так просто! \n",
    "Напишите программу, которая меняла бы значения двух переменных местами, но без использования третьей переменной и синтаксического сахара, а именно — без конструкции\n",
    "`a, b = b, a`\n",
    "\n",
    "В переменные будут вводиться только числа.\n",
    "\n",
    "`a = int(input('Введите первое число: '))`\n",
    "\n",
    "`b = int(input('Введите второе число: '))`\n",
    "\n",
    "`print(a, b)`\n",
    "\n",
    "\\# стереть эту строчку и вставить свой код здесь\n",
    "\n",
    "`print(a, b)`\n",
    "\n",
    "Изменять, удалять, менять местами 1-ю, 2-ю, 3-ю и последнюю строчки нельзя. Но между 3-ей и 4-ой строкой можно вставлять сколько угодно строк кода, не трогая последний принт.\n",
    "\n",
    "### Решение\n"
   ]
  },
  {
   "cell_type": "code",
   "execution_count": 23,
   "metadata": {},
   "outputs": [
    {
     "name": "stdout",
     "output_type": "stream",
     "text": [
      "-10 20\n",
      "20 -10\n"
     ]
    }
   ],
   "source": [
    "a = int(input('Введите первое число: '))\n",
    "b = int(input('Введите второе число: '))\n",
    "print(a, b)\n",
    "# Начало решения\n",
    "\n",
    "# У нас инты -> можно использовать арифметический метод\n",
    "a += b # Такой сахар, надеюсь, можно, если нет, то тут a = a + b\n",
    "b = a - b\n",
    "a -= b\n",
    "\n",
    "# Конец решения\n",
    "print(a, b)"
   ]
  }
 ],
 "metadata": {
  "kernelspec": {
   "display_name": "Python 3.10.7 ('.venv': venv)",
   "language": "python",
   "name": "python3"
  },
  "language_info": {
   "codemirror_mode": {
    "name": "ipython",
    "version": 3
   },
   "file_extension": ".py",
   "mimetype": "text/x-python",
   "name": "python",
   "nbconvert_exporter": "python",
   "pygments_lexer": "ipython3",
   "version": "3.10.7"
  },
  "orig_nbformat": 4,
  "vscode": {
   "interpreter": {
    "hash": "edcdf85d693928cbb3f99cbb266d6cce6aaedc539ecfd9e67e37708c17c022d4"
   }
  }
 },
 "nbformat": 4,
 "nbformat_minor": 2
}
