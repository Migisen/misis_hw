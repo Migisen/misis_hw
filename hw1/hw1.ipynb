{
    "cells": [
        {
            "cell_type": "code",
            "execution_count": 2,
            "metadata": {},
            "outputs": [],
            "source": [
                "from typing import Union, List, Tuple"
            ]
        },
        {
            "cell_type": "markdown",
            "metadata": {},
            "source": [
                "# Домашка 1"
            ]
        },
        {
            "cell_type": "markdown",
            "metadata": {},
            "source": [
                "## Задача 1. Сумма первых $n$ положительных чисел.\n",
                "\n",
                "Напишите программу, запрашивающую у пользователя число и подсчитывающую сумму натуральных положительных чисел от 1 до введенного пользователем значения. Сумма первых $n$ положительных чисел может быть рассчитана по формуле:\n",
                "\n",
                "$$\n",
                "n = \\dfrac{n*(n+1)}{2}\n",
                "$$\n",
                "\n",
                "### Решение"
            ]
        },
        {
            "cell_type": "code",
            "execution_count": 3,
            "metadata": {},
            "outputs": [
                {
                    "name": "stdout",
                    "output_type": "stream",
                    "text": [
                        "Сумма от 1 до 3 равняется 6\n"
                    ]
                }
            ],
            "source": [
                "def calculate_sum(n: int) -> int:\n",
                "    if n < 1:\n",
                "        raise ValueError('Input must be greater than 0')\n",
                "    return int((n * (n + 1))/2)\n",
                "\n",
                "n = int(input())\n",
                "print(f'Сумма от 1 до {n} равняется {calculate_sum(n)}')"
            ]
        },
        {
            "cell_type": "markdown",
            "metadata": {},
            "source": [
                "## Задача 2. Калькулятор.\n",
                "\n",
                "Составьте программу, которая запрашивает у пользователя 2 целых числа и выполняет операции:\n",
                "- арифметические: +, -, * , / , // , %, **, log10\n",
                "- сравнение: <, <=, >, >=, !=, ==\n",
                "\n",
                "выводя на экран результат каждого действия. В случае получение вещественного результата, округлите его до 2-х знаков после запятой (используя функцию `round()`).\n",
                "\n",
                "### Решение\n",
                "\n"
            ]
        },
        {
            "cell_type": "code",
            "execution_count": 4,
            "metadata": {},
            "outputs": [
                {
                    "name": "stdout",
                    "output_type": "stream",
                    "text": [
                        "---------\n",
                        "Арифметические операции\n",
                        "---------\n",
                        "1 + 100 = 101\n",
                        "1 - 100 = -99\n",
                        "1 * 100 = 100\n",
                        "1 / 100 = 0.01\n",
                        "1 // 100 = 0\n",
                        "1 % 100 = 1\n",
                        "1 ** 100 = 1\n",
                        "log_10(1) = 0.0\n",
                        "log_10(100) = 2.0\n",
                        "---------\n",
                        "Сравнения\n",
                        "---------\n",
                        "1 < 100 = True\n",
                        "1 <= 100 = True\n",
                        "1 > 100 = False\n",
                        "1 >= 100 = False\n",
                        "1 != 100 = True\n",
                        "1 == 100 = False\n"
                    ]
                }
            ],
            "source": [
                "import operator\n",
                "import math\n",
                "\n",
                "\n",
                "def run_operators(operators_list: List[tuple], a: int, b: int, title: str) -> None:\n",
                "    print('---------')\n",
                "    print(title)\n",
                "    print('---------')\n",
                "    for oper in operators_list:\n",
                "        value = oper[1](a, b)\n",
                "        if type(value) == float:\n",
                "            value = round(value, 2)\n",
                "        print(f'{a} {oper[0]} {b} = {value}')\n",
                "\n",
                "def strange_calculator(a: int, b: int) -> None:\n",
                "    arithmetics_operators = [('+', operator.add), ('-', operator.sub), ('*', operator.mul), ('/', operator.truediv), ('//', operator.floordiv),\n",
                "    ('%', operator.mod), ('**', operator.pow), ('log10', math.log10)]\n",
                "    # Можно сделать меньше сравнений, используя полученные результаты, но для наглядности будет все\n",
                "    comparison_operators = [('<', operator.lt), ('<=', operator.le), ('>', operator.gt), ('>=', operator.ge), ('!=', operator.ne), ('==', operator.eq)]\n",
                "\n",
                "    # Обрабатываем арифметические операторы, кроме логарифма\n",
                "    run_operators(arithmetics_operators[:-1], a, b, 'Арифметические операции')\n",
                "    # Обрабатываем логарифм\n",
                "    for number in [a, b]:\n",
                "        log_result = arithmetics_operators[-1][1](number)\n",
                "        if type(log_result) == float:\n",
                "            log_result = round(log_result, 2)\n",
                "        print(f'log_10({number}) = {log_result}')\n",
                "    # Обрабатываем сравнения\n",
                "    run_operators(comparison_operators, a, b, 'Сравнения')     \n",
                "\n",
                "a, b = int(input()), int(input())\n",
                "strange_calculator(a, b)"
            ]
        },
        {
            "cell_type": "markdown",
            "metadata": {},
            "source": [
                "## Задача 3.\n",
                "\n",
                "Вычислите значение следующего выражения (аргументы - целые числа и вводятся с клавиатуры):\n",
                "\n",
                "$$\n",
                "f = \\dfrac{\\sqrt[3]{\\dfrac{x^5+7}{|-6|y}}}{(7-z*mody)}\n",
                "$$\n",
                "\n",
                "### Решение"
            ]
        },
        {
            "cell_type": "code",
            "execution_count": 5,
            "metadata": {},
            "outputs": [
                {
                    "name": "stdout",
                    "output_type": "stream",
                    "text": [
                        "Для x = 3, y = 5, z = 9: f = 0.68\n"
                    ]
                }
            ],
            "source": [
                "from operator import mod\n",
                "\n",
                "\n",
                "def f(x: int, y: int, z: int, make_round: bool = True) -> Union[int, float]:\n",
                "    f = (((x**5 + 7)/(abs(-6)*y))**(1/3))/(7 - z % y)\n",
                "    if make_round:\n",
                "        f = round(f, 2)\n",
                "    return f\n",
                "\n",
                "x, y, z = [int(input(f'Введите {letter}:')) for letter in ['x', 'y', 'z']]\n",
                "print(f'Для x = {x}, y = {y}, z = {z}: f = {f(x, y, z)}')"
            ]
        },
        {
            "cell_type": "markdown",
            "metadata": {},
            "source": [
                "## Задача 4.\n",
                "\n",
                "Дана электрическая цепь, состоящая из 2-х последовательно соединенных проводников (сопротивление каждого известно). \n",
                "\n",
                "Найти общее сопротивление цепи (округление результата необходимо выполнить до 1-го знака после запятой).\n",
                "\n",
                "### Решение"
            ]
        },
        {
            "cell_type": "code",
            "execution_count": 6,
            "metadata": {},
            "outputs": [
                {
                    "data": {
                        "text/plain": [
                            "8.3"
                        ]
                    },
                    "execution_count": 6,
                    "metadata": {},
                    "output_type": "execute_result"
                }
            ],
            "source": [
                "def calculate_resistance(r_first: Union[int, float], r_second: Union[int, float]) -> float:\n",
                "    return round(r_first + r_second, 1)\n",
                "\n",
                "r_1, r_2 = 3.25, 5.1\n",
                "calculate_resistance(r_1, r_2)"
            ]
        },
        {
            "cell_type": "markdown",
            "metadata": {},
            "source": [
                "## Задача 5.\n",
                "\n",
                "Дано уравнение $ax + b = 0$ и отрезок $[m;n]$. Ответьте на вопрос, попадает ли решение уравнения в указанный отрезок.\n",
                "\n",
                "### Решение"
            ]
        },
        {
            "cell_type": "code",
            "execution_count": 30,
            "metadata": {},
            "outputs": [
                {
                    "name": "stdout",
                    "output_type": "stream",
                    "text": [
                        "Попадает | m = -10 <= x = 0.5 <= n = 100\n",
                        "Не попадает\n"
                    ]
                }
            ],
            "source": [
                "from typing import Dict\n",
                "\n",
                "\n",
                "def check_fit(params: Dict[str, Union[int, float]]) -> bool:\n",
                "    x = (-1 * params['b'])/params['a']\n",
                "    if x >= params['m'] and x <= params['n']:\n",
                "        print(f'Попадает | m = {params[\"m\"]} <= x = {x} <= n = {params[\"n\"]}')\n",
                "        return True\n",
                "    else:\n",
                "        print('Не попадает')\n",
                "        return False\n",
                "\n",
                "params_true = {'a': 10, 'b': -5, 'm': -10, 'n': 100}\n",
                "check_fit(params=params_true);\n",
                "\n",
                "params_false = {'a': 10, 'b': -5, 'm': -10, 'n': 0}\n",
                "check_fit(params=params_false);"
            ]
        },
        {
            "cell_type": "markdown",
            "metadata": {},
            "source": [
                "## Задача 6. Поездка по кругу\n",
                "\n",
                "Спортсмен решил потренироваться перед марафоном и покататься вокруг города на скорость. Длина дороги — 123 километра. Спортсмен стартует с нулевого километра и едет со скоростью $v$ километров в час. На какой отметке он остановится через $t$ часов?\n",
                "Реализуйте программу, которая спрашивает $у$ пользователя $v$ и $t$ и выводит целое число от 0 до 122 — номер километра, на котором остановится Спортсмен. Учтите, что он может прокатиться больше одного круга.\n"
            ]
        },
        {
            "cell_type": "code",
            "execution_count": 37,
            "metadata": {},
            "outputs": [
                {
                    "name": "stdout",
                    "output_type": "stream",
                    "text": [
                        "[v = 55, t = 8, s = 440]\n",
                        "Спортсмен прокатился 3 круг[а/ов] и остановился на 71 километре\n"
                    ]
                },
                {
                    "data": {
                        "text/plain": [
                            "71"
                        ]
                    },
                    "execution_count": 37,
                    "metadata": {},
                    "output_type": "execute_result"
                }
            ],
            "source": [
                "import ast\n",
                "\n",
                "def calculate_end_distance(speed: Union[int, float], t_hours: Union[int, float], road_len: int = 123) -> int:\n",
                "    total_distance_treveled = speed  * t_hours\n",
                "    print(f'[v = {speed}, t = {t_hours}, s = {total_distance_treveled}]')\n",
                "    rounds = 0\n",
                "    if total_distance_treveled >= 123:\n",
                "        rounds = int(total_distance_treveled // 123)\n",
                "        total_distance_treveled %= 123\n",
                "    total_distance_treveled = int(total_distance_treveled)\n",
                "    print(f'Спортсмен прокатился {rounds} круг[а/ов] и остановился на {total_distance_treveled} километре')\n",
                "    return total_distance_treveled\n",
                "\n",
                "v, t = (ast.literal_eval(input(f'Введите {letter}')) for letter in ['v', 't'])\n",
                "calculate_end_distance(speed=v, t_hours=t)\n"
            ]
        },
        {
            "cell_type": "markdown",
            "metadata": {},
            "source": [
                "## Задача 7. Сумма и произведение цифр в числе\n",
                "Дано двузначное и трехзначное число. Для каждого выведите на экран сумму и произведение цифр.\n",
                "\n",
                "### Решение"
            ]
        },
        {
            "cell_type": "code",
            "execution_count": 8,
            "metadata": {},
            "outputs": [
                {
                    "name": "stdout",
                    "output_type": "stream",
                    "text": [
                        "------\n",
                        "[ Для числа 13 ]\n",
                        "Сумма цифр числа = 4\n",
                        "Произведение цифр числа = 3\n",
                        "------\n",
                        "[ Для числа 337 ]\n",
                        "Сумма цифр числа = 13\n",
                        "Произведение цифр числа = 63\n"
                    ]
                }
            ],
            "source": [
                "from math import prod\n",
                "\n",
                "\n",
                "a, b = 13, 337\n",
                "\n",
                "def extract_digits(number: int) -> List[int]:\n",
                "    # Порядок будет обратный, в нашем случае это не важно\n",
                "    result = []\n",
                "    while number != 0:\n",
                "        result.append(number % 10)\n",
                "        number //= 10\n",
                "    return result\n",
                "\n",
                "def task_7(a: int, b: int) -> None:\n",
                "    for number in (a, b):\n",
                "        print('------')\n",
                "        print(f'[ Для числа {number} ]')\n",
                "        digits = extract_digits(number)\n",
                "        print(f'Сумма цифр числа = {sum(digits)}')\n",
                "        print(f'Произведение цифр числа = {prod(digits)}')\n",
                "\n",
                "task_7(a, b)\n"
            ]
        },
        {
            "cell_type": "markdown",
            "metadata": {},
            "source": [
                "## Задача 8. Сортировка трех чисел.\n",
                "Напишите программу, запрашивающую у пользователя три целых числа и выводящую их в упорядоченном виде – по возрастанию. Используйте функции `min` и `max` для нахождения наименьшего и наибольшего значений. Оставшееся число можно найти путем вычитания из суммы трех введенных чисел максимального и минимального.\n",
                "\n",
                "### Решение\n"
            ]
        },
        {
            "cell_type": "code",
            "execution_count": 9,
            "metadata": {},
            "outputs": [
                {
                    "name": "stdout",
                    "output_type": "stream",
                    "text": [
                        "Получается так: (-23512356, -124, 12421355)\n"
                    ]
                },
                {
                    "data": {
                        "text/plain": [
                            "(-23512356, -124, 12421355)"
                        ]
                    },
                    "execution_count": 9,
                    "metadata": {},
                    "output_type": "execute_result"
                }
            ],
            "source": [
                "def sort_3(a: int, b: int, c: int) -> Tuple[int]:\n",
                "    temp_tuple = (a, b, c)\n",
                "    first, third = min(temp_tuple), max(temp_tuple)\n",
                "    second = sum(temp_tuple) - first - third\n",
                "    print(f'Получается так: {first, second, third}')\n",
                "    return first, second, third\n",
                "\n",
                "a, b, c = int(input()), int(input()), int(input())\n",
                "sort_3(a, b, c);"
            ]
        },
        {
            "cell_type": "markdown",
            "metadata": {},
            "source": [
                "## Задача 9. Поменять местами: не всё так просто! \n",
                "Напишите программу, которая меняла бы значения двух переменных местами, но без использования третьей переменной и синтаксического сахара, а именно — без конструкции\n",
                "`a, b = b, a`\n",
                "\n",
                "В переменные будут вводиться только числа.\n",
                "\n",
                "`a = int(input('Введите первое число: '))`\n",
                "\n",
                "`b = int(input('Введите второе число: '))`\n",
                "\n",
                "`print(a, b)`\n",
                "\n",
                "\\# стереть эту строчку и вставить свой код здесь\n",
                "\n",
                "`print(a, b)`\n",
                "\n",
                "Изменять, удалять, менять местами 1-ю, 2-ю, 3-ю и последнюю строчки нельзя. Но между 3-ей и 4-ой строкой можно вставлять сколько угодно строк кода, не трогая последний принт.\n",
                "\n",
                "### Решение\n"
            ]
        },
        {
            "cell_type": "code",
            "execution_count": 10,
            "metadata": {},
            "outputs": [
                {
                    "name": "stdout",
                    "output_type": "stream",
                    "text": [
                        "1 100\n",
                        "100 1\n"
                    ]
                }
            ],
            "source": [
                "a = int(input('Введите первое число: '))\n",
                "b = int(input('Введите второе число: '))\n",
                "print(a, b)\n",
                "# Начало решения\n",
                "\n",
                "# У нас инты -> можно использовать арифметический метод\n",
                "a += b # Такой сахар, надеюсь, можно, если нет, то тут a = a + b\n",
                "b = a - b\n",
                "a -= b\n",
                "\n",
                "# Конец решения\n",
                "print(a, b)"
            ]
        }
    ],
    "metadata": {
        "kernelspec": {
            "display_name": "Python 3.10.7 ('.venv': venv)",
            "language": "python",
            "name": "python3"
        },
        "language_info": {
            "codemirror_mode": {
                "name": "ipython",
                "version": 3
            },
            "file_extension": ".py",
            "mimetype": "text/x-python",
            "name": "python",
            "nbconvert_exporter": "python",
            "pygments_lexer": "ipython3",
            "version": "3.10.8"
        },
        "orig_nbformat": 4,
        "vscode": {
            "interpreter": {
                "hash": "edcdf85d693928cbb3f99cbb266d6cce6aaedc539ecfd9e67e37708c17c022d4"
            }
        }
    },
    "nbformat": 4,
    "nbformat_minor": 2
}
